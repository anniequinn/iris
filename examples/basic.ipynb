{
 "cells": [
  {
   "cell_type": "code",
   "execution_count": 1,
   "metadata": {},
   "outputs": [],
   "source": [
    "import os; os.chdir(os.path.expanduser(\"~/git/personal/iris\"))\n",
    "\n",
    "from iris.Iris import Iris"
   ]
  },
  {
   "cell_type": "code",
   "execution_count": 3,
   "metadata": {},
   "outputs": [
    {
     "name": "stdout",
     "output_type": "stream",
     "text": [
      "Input: rgb(255, 255, 255) rgb(0, 255, 0)\n",
      "Output: [[255 255 255]\n",
      " [  0 255   0]]\n",
      "\n",
      "Input: #FF0000 #FFF #FF00FF\n",
      "Output: ['FF0000', 'FFFFFF', 'FF00FF']\n",
      "\n",
      "Input: r=255,g=255,b=255 r=0,g=255,b=0\n",
      "Output: [[255 255 255]\n",
      " [  0 255   0]]\n",
      "\n",
      "Input: lab(100, 0, 0) lab(150, 0, 0)\n",
      "Output: [[100.   0.   0.]\n",
      " [100.   0.   0.]]\n",
      "\n",
      "Input: l=100,a=0,b=0 l=150,a=0,b=0\n",
      "Output: [[100.   0.   0.]\n",
      " [100.   0.   0.]]\n",
      "\n",
      "Input: xyz(100, 0, 0) xyz(150, 0, 0)\n",
      "Output: [[100.   0.   0.]\n",
      " [100.   0.   0.]]\n",
      "\n"
     ]
    }
   ],
   "source": [
    "user_input_examples = [\n",
    "    \"rgb(255, 255, 255) rgb(0, 255, 0)\",\n",
    "    \"#FF0000 #FFF #FF00FF\",\n",
    "    \"r=255,g=255,b=255 r=0,g=255,b=0\",\n",
    "    \"lab(100, 0, 0) lab(150, 0, 0)\",\n",
    "    \"l=100,a=0,b=0 l=150,a=0,b=0\",\n",
    "    \"xyz(100, 0, 0) xyz(150, 0, 0)\"\n",
    "]\n",
    "\n",
    "for user_input in user_input_examples:\n",
    "    print(f\"Input: {user_input}\")\n",
    "    print(f\"Output: {Iris(user_input).iris_colours}\\n\")"
   ]
  },
  {
   "cell_type": "code",
   "execution_count": null,
   "metadata": {},
   "outputs": [],
   "source": []
  }
 ],
 "metadata": {
  "kernelspec": {
   "display_name": "persona-pathways",
   "language": "python",
   "name": "python3"
  },
  "language_info": {
   "codemirror_mode": {
    "name": "ipython",
    "version": 3
   },
   "file_extension": ".py",
   "mimetype": "text/x-python",
   "name": "python",
   "nbconvert_exporter": "python",
   "pygments_lexer": "ipython3",
   "version": "3.9.13"
  }
 },
 "nbformat": 4,
 "nbformat_minor": 2
}
