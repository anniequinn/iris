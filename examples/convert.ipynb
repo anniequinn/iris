{
 "cells": [
  {
   "cell_type": "code",
   "execution_count": 1,
   "metadata": {},
   "outputs": [],
   "source": [
    "import os; os.chdir(os.path.expanduser(\"~/git/personal/iris\"))\n",
    "\n",
    "from iris.Iris import Iris"
   ]
  },
  {
   "cell_type": "code",
   "execution_count": 11,
   "metadata": {},
   "outputs": [
    {
     "name": "stdout",
     "output_type": "stream",
     "text": [
      "['#ffffff', '#00ff00']\n",
      "[array([ 1.00000004e+02, -1.66666662e-05,  6.66666646e-06]), array([ 87.73472235, -86.18271642,  83.1793205 ])]\n",
      "[array([ 95.047  , 100.00001, 108.883  ]), array([35.75761, 71.51522, 11.9192 ])]\n",
      "[array([255,   0,   0]), array([255, 255, 255]), array([255,   0, 255])]\n",
      "[array([53.24079414, 80.0924596 , 67.20319652]), array([ 1.00000004e+02, -1.66666662e-05,  6.66666646e-06]), array([ 60.32421213,  98.23431189, -60.82489221])]\n",
      "[array([41.24564, 21.26729,  1.93339]), array([ 95.047  , 100.00001, 108.883  ]), array([59.28939, 28.48479, 96.9638 ])]\n",
      "['#ffffff', '#00ff00']\n",
      "[array([ 1.00000004e+02, -1.66666662e-05,  6.66666646e-06]), array([ 87.73472235, -86.18271642,  83.1793205 ])]\n",
      "[array([ 95.047  , 100.00001, 108.883  ]), array([35.75761, 71.51522, 11.9192 ])]\n",
      "[array([255, 255, 255]), array([255, 255, 255])]\n",
      "['#ffffff', '#ffffff']\n",
      "[array([ 95.047, 100.   , 108.883]), array([ 95.047, 100.   , 108.883])]\n",
      "[array([255, 255, 255]), array([255, 255, 255])]\n",
      "['#ffffff', '#ffffff']\n",
      "[array([ 95.047, 100.   , 108.883]), array([ 95.047, 100.   , 108.883])]\n",
      "[array([255,   0,  67]), array([255,   0,  67])]\n",
      "['#ff0043', '#ff0043']\n",
      "[array([  0.        , 439.57301643,   0.        ]), array([  0.        , 439.57301643,   0.        ])]\n"
     ]
    },
    {
     "name": "stderr",
     "output_type": "stream",
     "text": [
      "/Users/annie.quinn/git/personal/iris/iris/Converter.py:74: RuntimeWarning: invalid value encountered in power\n",
      "  1.055 * (rgb_arr ** (1 / 2.4)) - 0.055,\n"
     ]
    }
   ],
   "source": [
    "user_input_examples = [\n",
    "    \"rgb(255, 255, 255) rgb(0, 255, 0)\",\n",
    "    \"#FF0000 #FFF #FF00FF\",\n",
    "    \"r=255,g=255,b=255 r=0,g=255,b=0\",\n",
    "    \"lab(100, 0, 0) lab(150, 0, 0)\",\n",
    "    \"l=100,a=0,b=0 l=150,a=0,b=0\",\n",
    "    \"xyz(100, 0, 0) xyz(150, 0, 0)\",\n",
    "]\n",
    "\n",
    "for user_input in user_input_examples:\n",
    "    iris = Iris(user_input)\n",
    "    \n",
    "    for colour_space in [\"rgb\", \"hex\", \"lab\", \"xyz\"]:\n",
    "        if colour_space != iris.iris_colour_space:\n",
    "            print(iris.convert_colours(colour_space))\n"
   ]
  },
  {
   "cell_type": "code",
   "execution_count": null,
   "metadata": {},
   "outputs": [],
   "source": []
  }
 ],
 "metadata": {
  "kernelspec": {
   "display_name": "persona-pathways",
   "language": "python",
   "name": "python3"
  },
  "language_info": {
   "codemirror_mode": {
    "name": "ipython",
    "version": 3
   },
   "file_extension": ".py",
   "mimetype": "text/x-python",
   "name": "python",
   "nbconvert_exporter": "python",
   "pygments_lexer": "ipython3",
   "version": "3.9.13"
  }
 },
 "nbformat": 4,
 "nbformat_minor": 2
}
