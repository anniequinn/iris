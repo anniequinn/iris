{
 "cells": [
  {
   "cell_type": "code",
   "execution_count": null,
   "metadata": {},
   "outputs": [],
   "source": [
    "import os; os.chdir(os.path.expanduser(\"~/git/personal/iris\"))\n",
    "\n",
    "from iris.Iris import Iris\n",
    "\n",
    "user_input = \"#FF69B4\"\n",
    "\n",
    "iris = Iris(user_input)"
   ]
  },
  {
   "cell_type": "code",
   "execution_count": null,
   "metadata": {},
   "outputs": [],
   "source": [
    "col_str = \"#FF69B4\"\n",
    "# Test converting this to rgb, xyz, lab, then back to xyz, rgb, hex\n",
    "\n",
    "col_str = HexColSpace.get_valid_hex_str(col_str)\n",
    "rgb_arr = HexRGB.hex2rgb(col_str)\n",
    "print(rgb_arr)\n",
    "xyz_arr = RGBXYZ.rgb2xyz(rgb_arr)\n",
    "print(xyz_arr)\n",
    "lab_arr = XYZLab.xyz2lab(xyz_arr)\n",
    "xyz_arr = XYZLab.lab2xyz(lab_arr)\n",
    "print(xyz_arr)\n",
    "rgb_arr = RGBXYZ.xyz2rgb(xyz_arr)\n",
    "print(rgb_arr)\n",
    "hex_str = HexRGB.rgb2hex(rgb_arr)\n",
    "hex_str\n",
    "\n",
    "# TODO: Round out decimals in the 2rgb conversion"
   ]
  }
 ],
 "metadata": {
  "language_info": {
   "name": "python"
  }
 },
 "nbformat": 4,
 "nbformat_minor": 2
}
