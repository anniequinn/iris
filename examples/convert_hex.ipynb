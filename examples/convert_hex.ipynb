{
 "cells": [
  {
   "cell_type": "code",
   "execution_count": 1,
   "metadata": {},
   "outputs": [],
   "source": [
    "import os; os.chdir(os.path.expanduser(\"~/git/personal/iris\"))\n",
    "\n",
    "from iris.Iris import Iris\n",
    "\n",
    "user_input = \"#FF69B4\"\n",
    "\n",
    "iris = Iris(user_input)"
   ]
  },
  {
   "cell_type": "code",
   "execution_count": 4,
   "metadata": {},
   "outputs": [
    {
     "name": "stdout",
     "output_type": "stream",
     "text": [
      "[array([255, 105, 180])]\n",
      "[array([54.53224407, 34.6639119 , 46.99006208])]\n",
      "[array([ 65.48615893,  64.23845664, -10.64635269])]\n"
     ]
    }
   ],
   "source": [
    "rgb_arr = iris.convert_colours(\"rgb\")\n",
    "print(rgb_arr)\n",
    "\n",
    "xyz_arr = iris.convert_colours(\"xyz\")\n",
    "print(xyz_arr)\n",
    "\n",
    "lab_arr = iris.convert_colours(\"lab\")\n",
    "print(lab_arr)"
   ]
  }
 ],
 "metadata": {
  "kernelspec": {
   "display_name": "persona-pathways",
   "language": "python",
   "name": "python3"
  },
  "language_info": {
   "codemirror_mode": {
    "name": "ipython",
    "version": 3
   },
   "file_extension": ".py",
   "mimetype": "text/x-python",
   "name": "python",
   "nbconvert_exporter": "python",
   "pygments_lexer": "ipython3",
   "version": "3.9.13"
  }
 },
 "nbformat": 4,
 "nbformat_minor": 2
}
